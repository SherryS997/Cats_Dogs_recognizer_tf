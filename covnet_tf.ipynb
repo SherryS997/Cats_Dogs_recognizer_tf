{
 "cells": [
  {
   "cell_type": "code",
   "execution_count": 14,
   "metadata": {},
   "outputs": [],
   "source": [
    "import tensorflow as tf\n",
    "from tensorflow.keras.models import Sequential\n",
    "from tensorflow.keras.layers import Dense, Flatten, Conv2D, MaxPooling2D, Dropout\n",
    "import pickle\n",
    "from tensorflow.keras.callbacks import TensorBoard\n",
    "import time\n",
    "\n",
    "X = tf.constant(pickle.load(open(\"X.pickle\", \"rb\")))\n",
    "y = tf.constant(pickle.load(open(\"y.pickle\", \"rb\")))"
   ]
  },
  {
   "cell_type": "code",
   "execution_count": 15,
   "metadata": {},
   "outputs": [],
   "source": [
    "X /= 255"
   ]
  },
  {
   "cell_type": "code",
   "execution_count": 18,
   "metadata": {},
   "outputs": [],
   "source": [
    "# NAME = f\"Cats_vs_Dogs_CNN_64x2_{int(time.time())}\"\n",
    "\n",
    "# tensorboard = TensorBoard(log_dir=f\"drive/My Drive/Colab/CD/logs/{NAME}\")\n",
    "\n",
    "def build_model(layer_size, dense_layer, conv_layer):\n",
    "    NAME = f\"{conv_layer}-conv-{dense_layer}-dense-{layer_size}-layers-{int(time.time())}\"\n",
    "    tensorboard = TensorBoard(log_dir=f\"logs/{NAME}\")\n",
    "\n",
    "    model = Sequential()\n",
    "\n",
    "    model.add(Conv2D(layer_size, (3,3), input_shape=X.shape[1:], activation=\"relu\"))\n",
    "    model.add(MaxPooling2D(pool_size=(2,2)))\n",
    "\n",
    "    for l in range(conv_layer-1):\n",
    "        model.add(Conv2D(layer_size, (3,3), activation=\"relu\"))\n",
    "        model.add(MaxPooling2D(pool_size=(2,2)))\n",
    "\n",
    "    model.add(Flatten())\n",
    "    for l in range(dense_layer):\n",
    "        model.add(Dense(256, activation=\"relu\"))\n",
    "        model.add(Dropout(0.4))\n",
    "\n",
    "    model.add(Dense(1, activation=\"sigmoid\"))\n",
    "\n",
    "    model.compile(loss=\"binary_crossentropy\", optimizer=\"adam\", metrics=[\"accuracy\"])\n",
    "\n",
    "    model.fit(X, y, epochs=10, batch_size=32, validation_split=0.1, callbacks=[tensorboard])\n",
    "\n",
    "    return model"
   ]
  },
  {
   "cell_type": "code",
   "execution_count": 19,
   "metadata": {},
   "outputs": [
    {
     "name": "stderr",
     "output_type": "stream",
     "text": [
      "2021-10-13 23:21:38.875052: I tensorflow/core/profiler/lib/profiler_session.cc:131] Profiler session initializing.\n",
      "2021-10-13 23:21:38.875203: I tensorflow/core/profiler/lib/profiler_session.cc:146] Profiler session started.\n",
      "2021-10-13 23:21:38.875324: I tensorflow/core/profiler/lib/profiler_session.cc:164] Profiler session tear down.\n"
     ]
    },
    {
     "name": "stdout",
     "output_type": "stream",
     "text": [
      "Epoch 1/10\n",
      "  2/702 [..............................] - ETA: 1:28 - loss: 0.7183 - accuracy: 0.4219"
     ]
    },
    {
     "name": "stderr",
     "output_type": "stream",
     "text": [
      "2021-10-13 23:21:39.854629: I tensorflow/core/profiler/lib/profiler_session.cc:131] Profiler session initializing.\n",
      "2021-10-13 23:21:39.855038: I tensorflow/core/profiler/lib/profiler_session.cc:146] Profiler session started.\n",
      "2021-10-13 23:21:40.011158: I tensorflow/core/profiler/lib/profiler_session.cc:66] Profiler session collecting data.\n",
      "2021-10-13 23:21:40.012493: I tensorflow/core/profiler/lib/profiler_session.cc:164] Profiler session tear down.\n",
      "2021-10-13 23:21:40.014586: I tensorflow/core/profiler/rpc/client/save_profile.cc:136] Creating directory: drive/My Drive/Colab/CD/logs/3-conv-1-dense-64-layers-1634147498/train/plugins/profile/2021_10_13_23_21_40\n",
      "\n",
      "2021-10-13 23:21:40.015762: I tensorflow/core/profiler/rpc/client/save_profile.cc:142] Dumped gzipped tool data for trace.json.gz to drive/My Drive/Colab/CD/logs/3-conv-1-dense-64-layers-1634147498/train/plugins/profile/2021_10_13_23_21_40/root.trace.json.gz\n",
      "2021-10-13 23:21:40.018355: I tensorflow/core/profiler/rpc/client/save_profile.cc:136] Creating directory: drive/My Drive/Colab/CD/logs/3-conv-1-dense-64-layers-1634147498/train/plugins/profile/2021_10_13_23_21_40\n",
      "\n",
      "2021-10-13 23:21:40.018669: I tensorflow/core/profiler/rpc/client/save_profile.cc:142] Dumped gzipped tool data for memory_profile.json.gz to drive/My Drive/Colab/CD/logs/3-conv-1-dense-64-layers-1634147498/train/plugins/profile/2021_10_13_23_21_40/root.memory_profile.json.gz\n",
      "2021-10-13 23:21:40.019389: I tensorflow/core/profiler/rpc/client/capture_profile.cc:251] Creating directory: drive/My Drive/Colab/CD/logs/3-conv-1-dense-64-layers-1634147498/train/plugins/profile/2021_10_13_23_21_40\n",
      "Dumped tool data for xplane.pb to drive/My Drive/Colab/CD/logs/3-conv-1-dense-64-layers-1634147498/train/plugins/profile/2021_10_13_23_21_40/root.xplane.pb\n",
      "Dumped tool data for overview_page.pb to drive/My Drive/Colab/CD/logs/3-conv-1-dense-64-layers-1634147498/train/plugins/profile/2021_10_13_23_21_40/root.overview_page.pb\n",
      "Dumped tool data for input_pipeline.pb to drive/My Drive/Colab/CD/logs/3-conv-1-dense-64-layers-1634147498/train/plugins/profile/2021_10_13_23_21_40/root.input_pipeline.pb\n",
      "Dumped tool data for tensorflow_stats.pb to drive/My Drive/Colab/CD/logs/3-conv-1-dense-64-layers-1634147498/train/plugins/profile/2021_10_13_23_21_40/root.tensorflow_stats.pb\n",
      "Dumped tool data for kernel_stats.pb to drive/My Drive/Colab/CD/logs/3-conv-1-dense-64-layers-1634147498/train/plugins/profile/2021_10_13_23_21_40/root.kernel_stats.pb\n",
      "\n"
     ]
    },
    {
     "name": "stdout",
     "output_type": "stream",
     "text": [
      "702/702 [==============================] - 66s 93ms/step - loss: 0.6153 - accuracy: 0.6532 - val_loss: 0.5316 - val_accuracy: 0.7327\n",
      "Epoch 2/10\n",
      "702/702 [==============================] - 69s 99ms/step - loss: 0.4904 - accuracy: 0.7657 - val_loss: 0.4506 - val_accuracy: 0.7852\n",
      "Epoch 3/10\n",
      "702/702 [==============================] - 66s 94ms/step - loss: 0.4186 - accuracy: 0.8078 - val_loss: 0.4160 - val_accuracy: 0.8064\n",
      "Epoch 4/10\n",
      "702/702 [==============================] - 65s 93ms/step - loss: 0.3659 - accuracy: 0.8375 - val_loss: 0.3962 - val_accuracy: 0.8180\n",
      "Epoch 5/10\n",
      "702/702 [==============================] - 66s 94ms/step - loss: 0.3209 - accuracy: 0.8589 - val_loss: 0.3696 - val_accuracy: 0.8337\n",
      "Epoch 6/10\n",
      "702/702 [==============================] - 65s 92ms/step - loss: 0.2807 - accuracy: 0.8797 - val_loss: 0.3842 - val_accuracy: 0.8377\n",
      "Epoch 7/10\n",
      "702/702 [==============================] - 63s 90ms/step - loss: 0.2479 - accuracy: 0.8969 - val_loss: 0.3672 - val_accuracy: 0.8433\n",
      "Epoch 8/10\n",
      "702/702 [==============================] - 62s 88ms/step - loss: 0.2144 - accuracy: 0.9104 - val_loss: 0.4078 - val_accuracy: 0.8401\n",
      "Epoch 9/10\n",
      "702/702 [==============================] - 64s 92ms/step - loss: 0.1777 - accuracy: 0.9278 - val_loss: 0.3852 - val_accuracy: 0.8433\n",
      "Epoch 10/10\n",
      "702/702 [==============================] - 62s 88ms/step - loss: 0.1519 - accuracy: 0.9378 - val_loss: 0.3890 - val_accuracy: 0.8461\n"
     ]
    }
   ],
   "source": [
    "layer_sizes = [64]\n",
    "dense_layers = [1]\n",
    "conv_layers = [3]\n",
    "\n",
    "for layer_size in layer_sizes:\n",
    "    for dense_layer in dense_layers:\n",
    "        for conv_layer in conv_layers:\n",
    "            model = build_model(layer_size, dense_layer, conv_layer)"
   ]
  },
  {
   "cell_type": "code",
   "execution_count": 20,
   "metadata": {},
   "outputs": [
    {
     "name": "stderr",
     "output_type": "stream",
     "text": [
      "2021-10-13 23:34:47.561330: W tensorflow/python/util/util.cc:348] Sets are not currently considered sequences, but this may change in the future, so consider avoiding using them.\n"
     ]
    },
    {
     "name": "stdout",
     "output_type": "stream",
     "text": [
      "INFO:tensorflow:Assets written to: CNN-64x3x1.model/assets\n"
     ]
    }
   ],
   "source": [
    "model.save(\"CNN-64x3x1.model\")"
   ]
  },
  {
   "cell_type": "code",
   "execution_count": null,
   "metadata": {},
   "outputs": [],
   "source": []
  }
 ],
 "metadata": {
  "interpreter": {
   "hash": "e7370f93d1d0cde622a1f8e1c04877d8463912d04d973331ad4851f04de6915a"
  },
  "kernelspec": {
   "display_name": "Python 3.9.7 64-bit",
   "name": "python3"
  },
  "language_info": {
   "codemirror_mode": {
    "name": "ipython",
    "version": 3
   },
   "file_extension": ".py",
   "mimetype": "text/x-python",
   "name": "python",
   "nbconvert_exporter": "python",
   "pygments_lexer": "ipython3",
   "version": "3.9.7"
  },
  "orig_nbformat": 4
 },
 "nbformat": 4,
 "nbformat_minor": 2
}
