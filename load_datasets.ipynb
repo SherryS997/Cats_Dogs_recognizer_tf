{
 "cells": [
  {
   "cell_type": "code",
   "execution_count": 1,
   "metadata": {},
   "outputs": [],
   "source": [
    "import numpy as np\n",
    "import os\n",
    "import pylab as plt\n",
    "import cv2\n",
    "import tensorflow as tf\n",
    "import random\n",
    "from tqdm import tqdm"
   ]
  },
  {
   "cell_type": "code",
   "execution_count": 2,
   "metadata": {},
   "outputs": [],
   "source": [
    "DATADIR = '/home/sherry/Code/Datasets/PetImages/'\n",
    "CATEGORIES = [\"Dog\", \"Cat\"]"
   ]
  },
  {
   "cell_type": "code",
   "execution_count": 3,
   "metadata": {},
   "outputs": [
    {
     "name": "stderr",
     "output_type": "stream",
     "text": [
      "  2%|▏         | 282/12501 [00:00<00:08, 1417.46it/s]Warning: unknown JFIF revision number 0.00\n",
      "  8%|▊         | 1006/12501 [00:00<00:08, 1386.71it/s]Corrupt JPEG data: 65 extraneous bytes before marker 0xd9\n",
      " 23%|██▎       | 2852/12501 [00:02<00:06, 1414.53it/s]Corrupt JPEG data: 399 extraneous bytes before marker 0xd9\n",
      " 54%|█████▍    | 6727/12501 [00:04<00:04, 1425.26it/s]Corrupt JPEG data: 226 extraneous bytes before marker 0xd9\n",
      " 61%|██████    | 7599/12501 [00:05<00:03, 1388.10it/s]Corrupt JPEG data: 162 extraneous bytes before marker 0xd9\n",
      "Corrupt JPEG data: 1403 extraneous bytes before marker 0xd9\n",
      " 83%|████████▎ | 10337/12501 [00:07<00:01, 1488.44it/s]Corrupt JPEG data: 2230 extraneous bytes before marker 0xd9\n",
      " 91%|█████████ | 11365/12501 [00:08<00:00, 1442.62it/s]Corrupt JPEG data: 254 extraneous bytes before marker 0xd9\n",
      "100%|██████████| 12501/12501 [00:08<00:00, 1396.27it/s]\n",
      " 15%|█▌        | 1907/12501 [00:01<00:06, 1569.41it/s]Corrupt JPEG data: 239 extraneous bytes before marker 0xd9\n",
      " 24%|██▍       | 2988/12501 [00:01<00:06, 1515.80it/s]Corrupt JPEG data: 214 extraneous bytes before marker 0xd9\n",
      " 40%|████      | 5025/12501 [00:03<00:04, 1524.71it/s]Corrupt JPEG data: 99 extraneous bytes before marker 0xd9\n",
      " 49%|████▊     | 6065/12501 [00:04<00:04, 1465.61it/s]Corrupt JPEG data: 128 extraneous bytes before marker 0xd9\n",
      " 87%|████████▋ | 10846/12501 [00:07<00:01, 1444.60it/s]Corrupt JPEG data: 1153 extraneous bytes before marker 0xd9\n",
      "100%|██████████| 12501/12501 [00:08<00:00, 1493.12it/s]\n"
     ]
    }
   ],
   "source": [
    "training_data = []\n",
    "IMG_SIZE = 64\n",
    "\n",
    "def create_training_data():\n",
    "    for category in CATEGORIES:  # do dogs and cats\n",
    "\n",
    "        path = os.path.join(DATADIR,category)  # create path to dogs and cats\n",
    "        class_num = CATEGORIES.index(category)  # get the classification  (0 or a 1). 0=dog 1=cat\n",
    "\n",
    "        for img in tqdm(os.listdir(path)):  # iterate over each image per dogs and cats\n",
    "            try:\n",
    "                img_array = cv2.imread(os.path.join(path,img) ,cv2.IMREAD_GRAYSCALE)  # convert to array\n",
    "                new_array = cv2.resize(img_array, (IMG_SIZE, IMG_SIZE))  # resize to normalize data size\n",
    "                training_data.append([new_array, class_num])  # add this to our training_data\n",
    "            except Exception as e:  # in the interest in keeping the output clean...\n",
    "                pass\n",
    "            #except OSError as e:\n",
    "            #    print(\"OSErrroBad img most likely\", e, os.path.join(path,img))\n",
    "            #except Exception as e:\n",
    "            #    print(\"general exception\", e, os.path.join(path,img))\n",
    "\n",
    "create_training_data()"
   ]
  },
  {
   "cell_type": "code",
   "execution_count": 4,
   "metadata": {},
   "outputs": [
    {
     "name": "stdout",
     "output_type": "stream",
     "text": [
      "24946\n"
     ]
    }
   ],
   "source": [
    "print(len(training_data))"
   ]
  },
  {
   "cell_type": "code",
   "execution_count": 5,
   "metadata": {},
   "outputs": [
    {
     "data": {
      "image/png": "[encoded data removed]",
      "text/plain": [
       "<Figure size 432x288 with 1 Axes>"
      ]
     },
     "metadata": {
      "needs_background": "light"
     },
     "output_type": "display_data"
    }
   ],
   "source": [
    "plt.imshow(training_data[random.randrange(24946)][0], cmap=\"gray\")\n",
    "plt.show()"
   ]
  },
  {
   "cell_type": "code",
   "execution_count": 6,
   "metadata": {},
   "outputs": [
    {
     "name": "stdout",
     "output_type": "stream",
     "text": [
      "24946\n"
     ]
    }
   ],
   "source": [
    "print(len(training_data))\n",
    "\n",
    "random.shuffle(training_data)"
   ]
  },
  {
   "cell_type": "code",
   "execution_count": 7,
   "metadata": {},
   "outputs": [],
   "source": [
    "X = []\n",
    "y = []\n",
    "\n",
    "for features, labels in training_data:\n",
    "    X.append(features)\n",
    "    y.append(labels)\n",
    "\n",
    "X = np.array(X).reshape(-1, IMG_SIZE,IMG_SIZE, 1)"
   ]
  },
  {
   "cell_type": "code",
   "execution_count": 8,
   "metadata": {},
   "outputs": [],
   "source": [
    "import pickle\n",
    "\n",
    "pickle.dump(X, open(\"X.pickle\", \"wb\"))\n",
    "pickle.dump(y, open(\"y.pickle\", \"wb\"))"
   ]
  }
 ],
 "metadata": {
  "interpreter": {
   "hash": "e7370f93d1d0cde622a1f8e1c04877d8463912d04d973331ad4851f04de6915a"
  },
  "kernelspec": {
   "display_name": "Python 3.9.7 64-bit",
   "name": "python3"
  },
  "language_info": {
   "codemirror_mode": {
    "name": "ipython",
    "version": 3
   },
   "file_extension": ".py",
   "mimetype": "text/x-python",
   "name": "python",
   "nbconvert_exporter": "python",
   "pygments_lexer": "ipython3",
   "version": "3.9.7"
  },
  "orig_nbformat": 4
 },
 "nbformat": 4,
 "nbformat_minor": 2
}
